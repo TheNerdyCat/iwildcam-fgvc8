{
 "cells": [
  {
   "cell_type": "markdown",
   "id": "3b5ecec0",
   "metadata": {},
   "source": [
    "# iWildcam | Initial Exploration\n",
    "\n",
    "## Description\n",
    "This notebook is the first exploration into the iWildcam data - in it we take a deep dive into:\n",
    " - The structure of the data directory\n",
    " - The format and data types\n",
    " - The size of the data directory\n",
    " - Metadata overview\n",
    " \n",
    "This notebook will inform the creation of key functions too, such as functions to parse through data directories, read images and metadata. Descriptive statistics and more in depth analyses will be conducted in later notebooks."
   ]
  },
  {
   "cell_type": "code",
   "execution_count": 6,
   "id": "b66490e8",
   "metadata": {},
   "outputs": [],
   "source": [
    "import pandas as pd\n",
    "import numpy as np\n",
    "from pathlib import Path\n",
    "import os"
   ]
  },
  {
   "cell_type": "code",
   "execution_count": 9,
   "id": "deb2e0d8",
   "metadata": {},
   "outputs": [
    {
     "data": {
      "text/plain": [
       "'/home/edwardsims/Documents/iwildcam-fgvc8'"
      ]
     },
     "execution_count": 9,
     "metadata": {},
     "output_type": "execute_result"
    }
   ],
   "source": [
    "# Set working directory to repo home\n",
    "repo_abs_path = Path(\".\").resolve()\n",
    "os.chdir(repo_abs_path)\n",
    "# Print current working directory\n",
    "os.getcwd()"
   ]
  },
  {
   "cell_type": "code",
   "execution_count": 21,
   "id": "824345d7",
   "metadata": {},
   "outputs": [],
   "source": [
    "# Paths to raw data\n",
    "data_dir = os.path.join(repo_abs_path, \"data\")\n",
    "data_raw_dir = os.path.join(data_dir, \"raw\")\n",
    "\n",
    "data_raw_train_dir = os.path.join(data_raw_dir, \"train\")\n",
    "data_raw_test_dir = os.path.join(data_raw_dir, \"test\")\n",
    "data_raw_instance_masks_dir = os.path.join(data_raw_dir, \"instance_masks/instance_masks\")\n",
    "data_raw_metadata_dir = os.path.join(data_raw_dir, \"metadata\")"
   ]
  },
  {
   "cell_type": "code",
   "execution_count": 23,
   "id": "6b03962d",
   "metadata": {},
   "outputs": [
    {
     "data": {
      "text/plain": [
       "['iwildcam2021_megadetector_results.json',\n",
       " 'iwildcam2021_test_information.json',\n",
       " 'iwildcam2021_train_annotations.json']"
      ]
     },
     "execution_count": 23,
     "metadata": {},
     "output_type": "execute_result"
    }
   ],
   "source": [
    "os.listdir(data_raw_metadata_dir)"
   ]
  },
  {
   "cell_type": "code",
   "execution_count": null,
   "id": "f67b2cc8",
   "metadata": {},
   "outputs": [],
   "source": []
  },
  {
   "cell_type": "code",
   "execution_count": null,
   "id": "56bede7e",
   "metadata": {},
   "outputs": [],
   "source": []
  },
  {
   "cell_type": "code",
   "execution_count": null,
   "id": "e3d56db0",
   "metadata": {},
   "outputs": [],
   "source": []
  },
  {
   "cell_type": "code",
   "execution_count": null,
   "id": "ce7fbbd5",
   "metadata": {},
   "outputs": [],
   "source": []
  },
  {
   "cell_type": "code",
   "execution_count": null,
   "id": "0c6afede",
   "metadata": {},
   "outputs": [],
   "source": []
  },
  {
   "cell_type": "code",
   "execution_count": null,
   "id": "02a498bc",
   "metadata": {},
   "outputs": [],
   "source": []
  },
  {
   "cell_type": "code",
   "execution_count": null,
   "id": "694e1859",
   "metadata": {},
   "outputs": [],
   "source": []
  },
  {
   "cell_type": "code",
   "execution_count": null,
   "id": "4d32cc46",
   "metadata": {},
   "outputs": [],
   "source": []
  },
  {
   "cell_type": "code",
   "execution_count": null,
   "id": "f6546533",
   "metadata": {},
   "outputs": [],
   "source": []
  },
  {
   "cell_type": "code",
   "execution_count": null,
   "id": "02b5075e",
   "metadata": {},
   "outputs": [],
   "source": []
  },
  {
   "cell_type": "code",
   "execution_count": null,
   "id": "5590f7ac",
   "metadata": {},
   "outputs": [],
   "source": []
  },
  {
   "cell_type": "code",
   "execution_count": null,
   "id": "0575e8e8",
   "metadata": {},
   "outputs": [],
   "source": []
  },
  {
   "cell_type": "code",
   "execution_count": null,
   "id": "c92800d2",
   "metadata": {},
   "outputs": [],
   "source": []
  },
  {
   "cell_type": "code",
   "execution_count": null,
   "id": "20cf18af",
   "metadata": {},
   "outputs": [],
   "source": []
  },
  {
   "cell_type": "code",
   "execution_count": null,
   "id": "ffc1cf14",
   "metadata": {},
   "outputs": [],
   "source": []
  },
  {
   "cell_type": "code",
   "execution_count": null,
   "id": "e2c94dcd",
   "metadata": {},
   "outputs": [],
   "source": []
  },
  {
   "cell_type": "code",
   "execution_count": null,
   "id": "2b065f36",
   "metadata": {},
   "outputs": [],
   "source": []
  }
 ],
 "metadata": {
  "kernelspec": {
   "display_name": "Python 3",
   "language": "python",
   "name": "python3"
  },
  "language_info": {
   "codemirror_mode": {
    "name": "ipython",
    "version": 3
   },
   "file_extension": ".py",
   "mimetype": "text/x-python",
   "name": "python",
   "nbconvert_exporter": "python",
   "pygments_lexer": "ipython3",
   "version": "3.6.8"
  }
 },
 "nbformat": 4,
 "nbformat_minor": 5
}
